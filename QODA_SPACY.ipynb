{
  "nbformat": 4,
  "nbformat_minor": 0,
  "metadata": {
    "colab": {
      "name": "DataScienceNaPratica_Aula2.ipynb",
      "provenance": []
    },
    "kernelspec": {
      "name": "python3",
      "display_name": "Python 3"
    }
  },
  "cells": [
    {
      "cell_type": "markdown",
      "metadata": {
        "id": "wbNWkNxPnE7Q"
      },
      "source": [
        "#AULA 2\n",
        "\n",
        "---\n",
        "\n",
        "Machine Learning e Deep Learning com Kaggle"
      ]
    },
    {
      "cell_type": "markdown",
      "metadata": {
        "id": "_1D08mupnSfw"
      },
      "source": [
        "## KAGGLE\n",
        "https://www.kaggle.com/\n",
        "---\n",
        "![](https://minerandodados.com.br/wp-content/uploads/2018/03/kaggle-problem.png)\n",
        "<br>Plataforma comprada pela Google para competições de Machine Learning(prêmios em dinheiro), repositório de datasets, Notebooks explicados e comunidade global."
      ]
    },
    {
      "cell_type": "markdown",
      "metadata": {
        "id": "sc8Tf_pKsoWl"
      },
      "source": [
        "### MODELO PREDITIVO(TREINO)\n",
        "\n",
        "---\n",
        "\n",
        "Qual algoritmo usar?!\n",
        "<br><br>\n",
        "![](https://scikit-learn.org/stable/_static/ml_map.png)"
      ]
    },
    {
      "cell_type": "markdown",
      "metadata": {
        "id": "NO_Mpkg4nZig"
      },
      "source": [
        "## PROJETO: CLASSIFICAÇÃO(DEEP LEARNING)\n",
        "https://www.kaggle.com/uciml/sms-spam-collection-dataset"
      ]
    },
    {
      "cell_type": "markdown",
      "metadata": {
        "id": "BukeuaOBuD_M"
      },
      "source": [
        "### AQUISIÇÃO DE DADOS"
      ]
    },
    {
      "cell_type": "code",
      "metadata": {
        "id": "hor_uaOGnjCv"
      },
      "source": [
        "# BIBLIOTECAS\n",
        "import random\n",
        "import spacy\n",
        "import pandas as pd\n",
        "import seaborn as sns\n",
        "from spacy.util import minibatch\n",
        "from sklearn.model_selection import train_test_split\n",
        "from sklearn.metrics import accuracy_score\n",
        "from sklearn.metrics import confusion_matrix\n",
        "from matplotlib import pyplot as plt"
      ],
      "execution_count": null,
      "outputs": []
    },
    {
      "cell_type": "code",
      "metadata": {
        "id": "XUaJh9fAuGfc",
        "colab": {
          "base_uri": "https://localhost:8080/"
        },
        "outputId": "7659fff3-1bf2-4603-8a03-94540b28ee6e"
      },
      "source": [
        "# dados\n",
        "data_path = \"https://raw.githubusercontent.com/qodatecnologia/spam-data/main/spam-data.csv\"\n",
        "data = pd.read_csv(data_path)\n",
        "print(data.head())"
      ],
      "execution_count": null,
      "outputs": [
        {
          "output_type": "stream",
          "text": [
            "     v1  ... Unnamed: 4\n",
            "0   ham  ...        NaN\n",
            "1   ham  ...        NaN\n",
            "2  spam  ...        NaN\n",
            "3   ham  ...        NaN\n",
            "4   ham  ...        NaN\n",
            "\n",
            "[5 rows x 5 columns]\n"
          ],
          "name": "stdout"
        }
      ]
    },
    {
      "cell_type": "markdown",
      "metadata": {
        "id": "LgaHUITeuKEO"
      },
      "source": [
        "### ANÁLISE EXPLORATÓRIA DE DADOS"
      ]
    },
    {
      "cell_type": "code",
      "metadata": {
        "id": "s76u-bfLuNRs",
        "colab": {
          "base_uri": "https://localhost:8080/"
        },
        "outputId": "9ca21689-1731-40be-ba32-e431f8f5a886"
      },
      "source": [
        "data = pd.read_csv(data_path)\n",
        "observations = len(data.index)\n",
        "print(f\"Tamanho do Dataset: {observations}\\n\")\n",
        "print(data['v1'].value_counts())\n",
        "print()\n",
        "print(data['v1'].value_counts() / len(data.index) * 100.0)"
      ],
      "execution_count": null,
      "outputs": [
        {
          "output_type": "stream",
          "text": [
            "Tamanho do Dataset: 5572\n",
            "\n",
            "ham     4825\n",
            "spam     747\n",
            "Name: v1, dtype: int64\n",
            "\n",
            "ham     86.593683\n",
            "spam    13.406317\n",
            "Name: v1, dtype: float64\n"
          ],
          "name": "stdout"
        }
      ]
    },
    {
      "cell_type": "markdown",
      "metadata": {
        "id": "zJjFfbm5uTJU"
      },
      "source": [
        "###PASSO 3: PIPELINE SPACY\n",
        "\n",
        "\n",
        "---\n",
        "Para construir modelos com Spacy, você pode carregar os modelos de pipeline existentes ou criar um modelo vazio e adicionar as etapas de modelagem. Na 1ª linha, criamos o modelo vazio com spacy e passamos o idioma do dataset que é o inglês (en). Nas próximas linhas, estamos criando um pipeline dizendo que precisamos que esse modelo execute a classificação do texto. Utilizamos a arquitetura “bow” que, basicamente, executa “bag of words”. Em seguida, estamos adicionando o pipeline “text_cat” criado ao nosso modelo vazio. Nesta fase estamos tendo um modelo e estamos dizendo que este modelo deve realizar a classificação do texto utilizando a abordagem “bow”. Em seguida, estamos adicionando as classes target spam e ham ao modelo de categorização de texto criado. Não estamos executando nenhuma técnica de pré-processamento de texto com NLP pois foge do escopo deste tutorial e principalmente por recebermos o dataset já tratado: o que é raro no mundo real.\n"
      ]
    },
    {
      "cell_type": "code",
      "metadata": {
        "id": "eaPJpV_ZuX5k",
        "colab": {
          "base_uri": "https://localhost:8080/"
        },
        "outputId": "2275a177-570f-4eb0-b41b-432e4c948db1"
      },
      "source": [
        "# Criamos um modelo vazio com o idioma do dataset\n",
        "nlp = spacy.blank(\"en\")\n",
        "\n",
        "# Criamos agora um classificador de texto com classes exclusivas + arquitetura \"bow\" \n",
        "text_cat = nlp.create_pipe(\n",
        "              \"textcat\",\n",
        "              config={\n",
        "                \"exclusive_classes\": True,\n",
        "                \"architecture\": \"bow\"})\n",
        "\n",
        "# Adicionamos o classificador a nosso modelo vazio\n",
        "nlp.add_pipe(text_cat)\n",
        "\n",
        "# Adicionamos as \"classes exclusivas\"\n",
        "text_cat.add_label(\"ham\")\n",
        "text_cat.add_label(\"spam\")"
      ],
      "execution_count": null,
      "outputs": [
        {
          "output_type": "execute_result",
          "data": {
            "text/plain": [
              "1"
            ]
          },
          "metadata": {
            "tags": []
          },
          "execution_count": 90
        }
      ]
    },
    {
      "cell_type": "markdown",
      "metadata": {
        "id": "GSMbip-2ube8"
      },
      "source": [
        "###TREINO/TESTE\n",
        "\n",
        "---\n",
        "Vamos dividir os dados carregados em TREINO/TESTE.\n",
        "\n",
        "Conjunto de dados de treinamento: para treinar o modelo de categorização de texto.\n",
        "Conjunto de dados de teste: para validar o desempenho do modelo.\n",
        "\n",
        "Para dividir os dados em 2 conjuntos de dados, usaremos o train_test_split do scikit learn, de forma que os dados de teste representem 33% dos dados carregados.\n"
      ]
    },
    {
      "cell_type": "code",
      "metadata": {
        "id": "mI6UUmyDuc1z"
      },
      "source": [
        "x_train, x_test, y_train, y_test = train_test_split(\n",
        "      data['v2'], data['v1'], test_size=0.33, random_state=7)"
      ],
      "execution_count": null,
      "outputs": []
    },
    {
      "cell_type": "markdown",
      "metadata": {
        "id": "nS7MmuLdul5r"
      },
      "source": [
        "Ao contrário dos outros modelos do scikit-learn, você não pode passar o destino como uma única coluna para o spacy, precisamos criar explicitamente os destinos como uma lista booleana de True/False. Como para cada texto de e-mail, o target é True. Criamos onehot encoding para categorias target(o que queremos prever), onde estamos criando dois rótulos booleanos(True/False) e atribuindo True para o rótulo real e False para o outro rótulo. Agora temos features e targets para treinar o modelo, mas primeiro precisamos combinar as features e os targets em um único conjunto de dados para construir o modelo de classificação de e-mail. Estamos pegando as features (texto do e-mail), convertendo rótulos de treino (booleanos) e juntando-os usando o método zip, a mesma abordagem que estamos aplicando para conjuntos de dados de treinamento e teste."
      ]
    },
    {
      "cell_type": "code",
      "metadata": {
        "id": "MW5KEuJjumQS"
      },
      "source": [
        "train_lables = [{'cats': {'ham': label == 'ham',\n",
        "                          'spam': label == 'spam'}}  for label in y_train]\n",
        "\n",
        "test_lables = [{'cats': {'ham': label == 'ham',\n",
        "                      'spam': label == 'spam'}}  for label in y_test]\n",
        "\n",
        "# Spacy model data\n",
        "train_data = list(zip(x_train, train_lables))\n",
        "test_data = list(zip(x_test, test_lables))"
      ],
      "execution_count": null,
      "outputs": []
    },
    {
      "cell_type": "markdown",
      "metadata": {
        "id": "GoK9HXiXuqSb"
      },
      "source": [
        "Para cada época, estamos embaralhando os dados usando o método de embaralhamento “shuffle” e, em seguida, criando os batches(lotes de treinamento). \n",
        "\n",
        "Para cada lote atualizamos o modelo usando o otimizador e, no final, capturamos as loss functions.\n",
        "\n",
        "* model: modelo vazio já criado\n",
        "* train data: dados de treino\n",
        "* optimizer: Otimizador\n",
        "* batch size: Tamanho dos batches\n",
        "* epochs: épocas de treinamento"
      ]
    },
    {
      "cell_type": "code",
      "metadata": {
        "id": "Hp9jakK7u078"
      },
      "source": [
        "def train_model(model, train_data, optimizer, batch_size, epochs=10):\n",
        "    losses = {}\n",
        "    random.seed(1)\n",
        "\n",
        "    for epoch in range(epochs):\n",
        "        random.shuffle(train_data)\n",
        "\n",
        "        batches = minibatch(train_data, size=batch_size)\n",
        "        for batch in batches:\n",
        "            # Split batch into texts and labels\n",
        "            texts, labels = zip(*batch)\n",
        "\n",
        "            # Update model with texts and labels\n",
        "            model.update(texts, labels, sgd=optimizer, losses=losses)\n",
        "        print(\"Loss: {}\".format(losses['textcat']))\n",
        "\n",
        "    return losses['textcat']"
      ],
      "execution_count": null,
      "outputs": []
    },
    {
      "cell_type": "code",
      "metadata": {
        "id": "C9ScdrMZu1Pz",
        "colab": {
          "base_uri": "https://localhost:8080/"
        },
        "outputId": "89954bf5-ba65-45ba-ddb1-0c7d00041dfd"
      },
      "source": [
        "optimizer = nlp.begin_training()\n",
        "batch_size = 5\n",
        "epochs = 10\n",
        "\n",
        "# Treinar!\n",
        "train_model(nlp, train_data, optimizer, batch_size, epochs)"
      ],
      "execution_count": null,
      "outputs": [
        {
          "output_type": "stream",
          "text": [
            "Loss: 3.9675071447882146\n",
            "Loss: 4.947752934833176\n",
            "Loss: 5.475570609709221\n",
            "Loss: 5.8221963234604885\n",
            "Loss: 6.054016676907645\n",
            "Loss: 6.198435771319279\n",
            "Loss: 6.297653178926925\n",
            "Loss: 6.367637058164786\n",
            "Loss: 6.424966427345702\n",
            "Loss: 6.471268548712159\n"
          ],
          "name": "stdout"
        },
        {
          "output_type": "execute_result",
          "data": {
            "text/plain": [
              "6.471268548712159"
            ]
          },
          "metadata": {
            "tags": []
          },
          "execution_count": 94
        }
      ]
    },
    {
      "cell_type": "markdown",
      "metadata": {
        "id": "9_7bvkqVu5SL"
      },
      "source": [
        "###PASSO 5: PREDIÇÕES\n",
        "\n",
        "---\n",
        "\n",
        "\n",
        "Para o texto de sms/e-mail abaixo, a saída real é “ham” e nosso modelo está tendo alta probabilidade de quase 99% para ham e 1% para spam. O que significa que nosso modelo está prevendo o texto do e-mail corretamente."
      ]
    },
    {
      "cell_type": "code",
      "metadata": {
        "id": "hT2xiIuNvvMK",
        "colab": {
          "base_uri": "https://localhost:8080/"
        },
        "outputId": "c3597acc-c384-4a1e-b782-fd38fe54186d"
      },
      "source": [
        "print(train_data[0])\n",
        "sample_test = nlp(train_data[0][0])\n",
        "print(sample_test.cats)"
      ],
      "execution_count": null,
      "outputs": [
        {
          "output_type": "stream",
          "text": [
            "('Remember all those whom i hurt during days of satanic imposter in me.need to pay a price,so be it.may destiny keep me going and as u said pray that i get the mind to get over the same.', {'cats': {'ham': True, 'spam': False}})\n",
            "{'ham': 0.9999992847442627, 'spam': 7.569625495307264e-07}\n"
          ],
          "name": "stdout"
        }
      ]
    },
    {
      "cell_type": "markdown",
      "metadata": {
        "id": "y912JiS7vyvo"
      },
      "source": [
        "A função abaixo “get_predictions” usa dois parâmetros, um é o modelo e o outro é o texto da sms. Na 3ª linha da função, o texto é tokenizado e, em seguida, dividimos o conteúdo da sms e armazenamos em documentos. Nas próximas linhas chamamos o método “textcat” que criamos, usando o objeto textcat para prever a classe de spam ham/spam. As Pontuações basicamente fornecem as probabilidades para ambas as classes. Para identificar a classe de rótulo, estamos pegando a probabilidade máxima usando o argmax, então estamos retornando as previsões."
      ]
    },
    {
      "cell_type": "code",
      "metadata": {
        "id": "Zh2EByJsvzdR"
      },
      "source": [
        "def get_predictions(model, texts):\n",
        "    # Tokenizar\n",
        "    docs = [model.tokenizer(text) for text in texts]\n",
        "\n",
        "    # textcat para verificar os scores\n",
        "    textcat = model.get_pipe('textcat')\n",
        "    scores, _ = textcat.predict(docs)\n",
        "\n",
        "    # Mostramos os scores mais altos com argmax\n",
        "    predicted_labels = scores.argmax(axis=1)\n",
        "    predicted_class = [textcat.labels[label] for label in predicted_labels]\n",
        "\n",
        "    return predicted_class"
      ],
      "execution_count": null,
      "outputs": []
    },
    {
      "cell_type": "markdown",
      "metadata": {
        "id": "LDGxEzSpv1Vz"
      },
      "source": [
        "### AVALIAÇÃO DO MODELO\n",
        "\n",
        "---\n",
        "\n",
        "Para problemas supervisionados de classificação, podemos/devemos utilizar acurácia e a matriz de confusão."
      ]
    },
    {
      "cell_type": "code",
      "metadata": {
        "id": "r2hoVudbv9ti",
        "colab": {
          "base_uri": "https://localhost:8080/"
        },
        "outputId": "ac21641e-9783-47fb-e48c-2da3152ee010"
      },
      "source": [
        "# ACURÁCIA\n",
        "train_predictions = get_predictions(nlp, x_train)\n",
        "test_predictions = get_predictions(nlp, x_test)\n",
        "\n",
        "train_accuracy = accuracy_score(y_train, train_predictions)\n",
        "test_accuracy = accuracy_score(y_test, test_predictions)\n",
        "\n",
        "print(f\"Train accuracy: {train_accuracy}\")\n",
        "print(f\"Test accuracy: {test_accuracy}\")"
      ],
      "execution_count": null,
      "outputs": [
        {
          "output_type": "stream",
          "text": [
            "Train accuracy: 0.998928475756764\n",
            "Test accuracy: 0.9815116911364872\n"
          ],
          "name": "stdout"
        }
      ]
    },
    {
      "cell_type": "markdown",
      "metadata": {
        "id": "uS1NGV8swBFj"
      },
      "source": [
        "uau! 99% no treino e 98% nos testes: muito bom! Acreditamos que a missão por aqui foi cumprida, mas ainda falta uma última etapa: a matriz de confusão para treino e teste:"
      ]
    },
    {
      "cell_type": "code",
      "metadata": {
        "id": "HrCLlQL-wBZ7",
        "colab": {
          "base_uri": "https://localhost:8080/",
          "height": 517
        },
        "outputId": "3797c2c4-6037-480e-987d-5edfb53def5a"
      },
      "source": [
        "# MATRIZ DE CONFUSÃO TREINO\n",
        "print(\"TREINO:\")\n",
        "cf_train_matrix = confusion_matrix(y_train, train_predictions)\n",
        "plt.figure(figsize=(10,8))\n",
        "sns.heatmap(cf_train_matrix, annot=True, fmt='d')"
      ],
      "execution_count": null,
      "outputs": [
        {
          "output_type": "stream",
          "text": [
            "TREINO:\n"
          ],
          "name": "stdout"
        },
        {
          "output_type": "execute_result",
          "data": {
            "text/plain": [
              "<matplotlib.axes._subplots.AxesSubplot at 0x7efcdec60190>"
            ]
          },
          "metadata": {
            "tags": []
          },
          "execution_count": 103
        },
        {
          "output_type": "display_data",
          "data": {
            "image/png": "[encoded data removed]",
            "text/plain": [
              "<Figure size 720x576 with 2 Axes>"
            ]
          },
          "metadata": {
            "tags": [],
            "needs_background": "light"
          }
        }
      ]
    },
    {
      "cell_type": "code",
      "metadata": {
        "id": "aK-EQsDowD9R",
        "colab": {
          "base_uri": "https://localhost:8080/",
          "height": 517
        },
        "outputId": "88ae44ea-bee4-4ae2-90de-6d4c2ddaedb7"
      },
      "source": [
        "# MATRIZ DE CONFUSÃO TESTE\n",
        "print(\"TESTE:\")\n",
        "cf_test_matrix = confusion_matrix(y_test, test_predictions)\n",
        "plt.figure(figsize=(10,8))\n",
        "sns.heatmap(cf_test_matrix, annot=True, fmt='d')"
      ],
      "execution_count": null,
      "outputs": [
        {
          "output_type": "stream",
          "text": [
            "TESTE:\n"
          ],
          "name": "stdout"
        },
        {
          "output_type": "execute_result",
          "data": {
            "text/plain": [
              "<matplotlib.axes._subplots.AxesSubplot at 0x7efcd654d750>"
            ]
          },
          "metadata": {
            "tags": []
          },
          "execution_count": 104
        },
        {
          "output_type": "display_data",
          "data": {
            "image/png": "[encoded data removed]",
            "text/plain": [
              "<Figure size 720x576 with 2 Axes>"
            ]
          },
          "metadata": {
            "tags": [],
            "needs_background": "light"
          }
        }
      ]
    },
    {
      "cell_type": "markdown",
      "metadata": {
        "id": "ZV8qwz5qnjVv"
      },
      "source": [
        "## PROJETO 3: CRIANDO DATA APP \n",
        "\n",
        "---\n",
        "\n",
        "Este app precisa ser criado em sua máquina local, por isto, efetue download deste .jpynb\n",
        "<br>Dataset em .txt: https://gist.github.com/qodatecnologia/1fa12c3b4820435cc4f899e8e4610e4e#file-smsspamcollection-txt"
      ]
    },
    {
      "cell_type": "code",
      "metadata": {
        "id": "7Uacfzo4woJr"
      },
      "source": [
        "'''\n",
        "functions.py\n",
        "'''\n",
        "\n",
        "#no need to change anything in this file!\n",
        "\n",
        "#SMS Spam Filter Imports\n",
        "import random\n",
        "import pandas as pd\n",
        "import string\n",
        "import nltk\n",
        "nltk.download('punkt')\n",
        "nltk.download('stopwords')\n",
        "\n",
        "def categorize_words():\n",
        "    '''\n",
        "    Catagorizes each spam/non-spam word into a corresponding list\n",
        "    Repeating words in each list will help with categorizing\n",
        "    '''\n",
        "    spam_words = []\n",
        "    ham_words = []\n",
        "    for sms in data['processed'][data['label'] == 'spam']:\n",
        "        for word in sms:\n",
        "            spam_words.append(word)\n",
        "    for sms in data['processed'][data['label'] == 'ham']:\n",
        "        for word in sms:\n",
        "            ham_words.append(word)\n",
        "    return spam_words, ham_words\n",
        "\n",
        "def predict(user_input):\n",
        "  spam_counter = 0\n",
        "  ham_counter = 0\n",
        "\n",
        "  #add text colour : ham is green, spam is red\n",
        "  red = [220,50,50]\n",
        "  green = [100,220,50]\n",
        "\n",
        "  for word in user_input:\n",
        "    spam_counter += spam_words.count(word)\n",
        "    ham_counter += ham_words.count(word)\n",
        "\n",
        "  if ham_counter > spam_counter:\n",
        "    #adding accuracy\n",
        "    certainty = round((ham_counter / (ham_counter + spam_counter)) * 100, 2)\n",
        "    return 'Não é spam, com {}% de certeza'.format(certainty), green\n",
        "  elif spam_counter > ham_counter:\n",
        "    certainty = round((spam_counter / (ham_counter + spam_counter)) * 100, 2)\n",
        "    return 'Spam, com {}% de certeza'.format(certainty), red\n",
        "  else:\n",
        "    return 'Pode ser, ou não, estou na dúvida com 50% de certeza', [255,255,255]\n",
        "\n",
        "def pre_process(sms):\n",
        "    '''\n",
        "    Remove punctuation and stop words from the custom sms\n",
        "    '''\n",
        "    remove_punct = \"\".join([word.lower() for word in sms if word not in string.punctuation])\n",
        "    tokenize = nltk.tokenize.word_tokenize(remove_punct)\n",
        "    remove_stop_words = [word for word in tokenize if word not in nltk.corpus.stopwords.words('english')]\n",
        "    return remove_stop_words\n",
        "\n",
        "data = pd.read_csv('SMSSpamCollection.txt', sep = '\\t', header=None, names=[\"label\", \"sms\"])\n",
        "data['processed'] = data['sms'].apply(lambda x: pre_process(x))\n",
        "\n",
        "#creating lists to store spam/non-spam associated words and their instances\n",
        "spam_words, ham_words = categorize_words()\n"
      ],
      "execution_count": null,
      "outputs": []
    },
    {
      "cell_type": "code",
      "metadata": {
        "id": "bLcTm4T4nmHA"
      },
      "source": [
        "''' \n",
        "app.py\n",
        "'''\n",
        "\n",
        "#DearPyGUI Imports\n",
        "from dearpygui.core import *\n",
        "from dearpygui.simple import *\n",
        "\n",
        "#functions.py Imports\n",
        "from functions import categorize_words, pre_process, predict\n",
        "\n",
        "pred = []\n",
        "#button callbak function\n",
        "#runs each time when the \"Check\" button is clicked\n",
        "def check_spam(pred):\n",
        "    with window(\"Simple SMS Spam Filter\"):\n",
        "        if pred == []:\n",
        "            #runs only once - the the button is first clicked\n",
        "            #and pred[-1] widget doesn't exist\n",
        "            add_spacing(count=12)\n",
        "            add_separator()\n",
        "            add_spacing(count=12)\n",
        "        else:\n",
        "            #hide prediction widget\n",
        "            hide_item(pred[-1])\n",
        "        #collect input, pre-process and get prediction\n",
        "        input_value = get_value(\"Input\")\n",
        "        input_value = pre_process(input_value)\n",
        "        pred_text, text_colour = predict(input_value)\n",
        "        #store prediction inside the pred list\n",
        "        pred.append(pred_text)\n",
        "        #display prediction to user\n",
        "        add_text(pred[-1], color=text_colour)\n",
        "\n",
        "#window object settings\n",
        "set_main_window_size(540, 720)\n",
        "set_global_font_scale(1.25)\n",
        "set_theme(\"Gold\")\n",
        "set_style_window_padding(30,30)\n",
        "\n",
        "with window(\"Simple SMS Spam Filter\", width=520, height=677):\n",
        "    print(\"GUI is running...\")\n",
        "    set_window_pos(\"Simple SMS Spam Filter\", 0, 0)\n",
        "\n",
        "    #image logo\n",
        "    add_drawing(\"logo\", width=520, height=290) #create some space for the image\n",
        "\n",
        "    add_separator()\n",
        "    add_spacing(count=12)\n",
        "    #text instructions\n",
        "    add_text(\"Por favor, digite uma mensagem SMS de sua escolha para verificar se é spam ou não\",\n",
        "    color=[232,163,33])\n",
        "    add_spacing(count=12)\n",
        "    #collect input\n",
        "    add_input_text(\"Input\", width=415, default_value=\"Escreva aqui!\")\n",
        "    add_spacing(count=12)\n",
        "    #action button\n",
        "    add_button(\"Verificar\", callback=lambda x,y:check_spam(pred))\n",
        "\n",
        "#place the image inside the space\n",
        "draw_image(\"logo\", \"logo_spamFilter.png\", [0, 240])\n",
        "\n",
        "#IF THE PREVIOUS LINE OF CODE TRIGGERS AN ERRROR TRY\n",
        "#draw_image(\"logo\", \"logo_spamFilter.png\", [0,0], [458,192])\n",
        "\n",
        "start_dearpygui()\n",
        "print(\"Bye Bye, GUI\")\n"
      ],
      "execution_count": null,
      "outputs": []
    },
    {
      "cell_type": "markdown",
      "metadata": {
        "id": "4TPEyZdQmMoh"
      },
      "source": [
        "# DISCLAIMER\n",
        "\n",
        "---\n",
        "\n",
        "Ao término das aulas, abriremos uma nova turma para a MARATONA DATA SCIENCE(360h), contendo 12 cursos de 30h cada. Abriremos 256 vagas apenas com acesso vitalício. Preço pandemia: R$123,00\n",
        "\n",
        "<br>Maiores infos em: https://qoda.com.br/maratona-data-science-by-qoda/\n",
        "<br>Grupo para vagas antecipadas: https://chat.whatsapp.com/Bwtucly0YfDF2hSFnvD67E \n",
        "<br><br>\n",
        "![alt](https://uploaddeimagens.com.br/images/003/138/338/original/trilha.png?1616075260)"
      ]
    }
  ]
}